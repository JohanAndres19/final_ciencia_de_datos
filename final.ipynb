{
 "cells": [
  {
   "cell_type": "markdown",
   "metadata": {},
   "source": [
    "# Proyecto Final\n",
    "## Integrantes :\n",
    "\n",
    "* ## Camilo Andres Caiman Urquijo -20181020086\n",
    "* ## Johan Andres Aguirre Diaz -20181020072 \n"
   ]
  },
  {
   "cell_type": "code",
   "execution_count": 52,
   "metadata": {},
   "outputs": [],
   "source": [
    "import tensorflow as tf\n",
    "\n",
    "from tensorflow.keras.preprocessing.image import ImageDataGenerator\n",
    "from tensorflow.keras.models import Sequential, load_model, Model\n",
    "from tensorflow.keras.layers import Dense, Dropout, Flatten, Activation, Input\n",
    "from tensorflow.keras.layers import Conv2D, MaxPooling2D, BatchNormalization\n",
    "from tensorflow.keras.callbacks import EarlyStopping, ModelCheckpoint\n",
    "from tensorflow.keras import backend as K\n",
    "from tensorflow.keras.utils import to_categorical\n",
    "from keras.layers.advanced_activations import LeakyReLU\n",
    "import numpy as np\n",
    "\n",
    "\n",
    "# Librería para graficar \n",
    "import matplotlib.pyplot as plt\n",
    "from scipy import interp\n",
    "from itertools import cycle\n",
    "import itertools\n"
   ]
  },
  {
   "cell_type": "markdown",
   "metadata": {},
   "source": [
    "# Preparacion de Datos"
   ]
  },
  {
   "cell_type": "code",
   "execution_count": 13,
   "metadata": {},
   "outputs": [],
   "source": [
    "ruta_dataset_entrenamiento = \"/Users/usuario/OneDrive/Documentos/semestre 2021-3/ciencias de datos/final/sportimages_train\"\n",
    "ruta_dataset_prueba = \"/Users/usuario/OneDrive/Documentos/semestre 2021-3/ciencias de datos/final/sportimages_test\"\n",
    "ruta_dataset_validacion = \"/Users/usuario/OneDrive/Documentos/semestre 2021-3/ciencias de datos/final/sportimages_validation\"\n",
    "num_classes = 3"
   ]
  },
  {
   "cell_type": "code",
   "execution_count": 3,
   "metadata": {},
   "outputs": [],
   "source": [
    "train_datagen = ImageDataGenerator(rescale=1./255)\n",
    "test_datagen = ImageDataGenerator(rescale=1./255)\n",
    "validation_datagen = ImageDataGenerator(rescale=1./255)"
   ]
  },
  {
   "cell_type": "code",
   "execution_count": 35,
   "metadata": {},
   "outputs": [
    {
     "name": "stdout",
     "output_type": "stream",
     "text": [
      "Found 13260 images belonging to 3 classes.\n",
      "Found 4419 images belonging to 3 classes.\n",
      "Found 8244 images belonging to 3 classes.\n"
     ]
    }
   ],
   "source": [
    "train_generator = train_datagen.flow_from_directory(ruta_dataset_entrenamiento,target_size=(21,28),color_mode=\"rgb\",class_mode='categorical',batch_size=34,shuffle=False)\n",
    "test_generator = test_datagen.flow_from_directory(ruta_dataset_prueba,color_mode=\"rgb\",target_size=(21,28),class_mode='categorical',batch_size=1,shuffle=False)\n",
    "validation_generator=validation_datagen.flow_from_directory(ruta_dataset_validacion,target_size=(21,28),color_mode=\"rgb\",class_mode='categorical',batch_size=34,shuffle=False)"
   ]
  },
  {
   "cell_type": "markdown",
   "metadata": {},
   "source": [
    "# Construccion y Preparacion del Modelo"
   ]
  },
  {
   "cell_type": "code",
   "execution_count": 21,
   "metadata": {},
   "outputs": [
    {
     "name": "stdout",
     "output_type": "stream",
     "text": [
      "Model: \"sequential_1\"\n",
      "_________________________________________________________________\n",
      " Layer (type)                Output Shape              Param #   \n",
      "=================================================================\n",
      " conv2d_1 (Conv2D)           (None, 21, 28, 32)        896       \n",
      "                                                                 \n",
      " max_pooling2d_1 (MaxPooling  (None, 11, 14, 32)       0         \n",
      " 2D)                                                             \n",
      "                                                                 \n",
      " leaky_re_lu_2 (LeakyReLU)   (None, 11, 14, 32)        0         \n",
      "                                                                 \n",
      " dropout_2 (Dropout)         (None, 11, 14, 32)        0         \n",
      "                                                                 \n",
      " conv2d_2 (Conv2D)           (None, 11, 14, 32)        9248      \n",
      "                                                                 \n",
      " max_pooling2d_2 (MaxPooling  (None, 6, 7, 32)         0         \n",
      " 2D)                                                             \n",
      "                                                                 \n",
      " leaky_re_lu_3 (LeakyReLU)   (None, 6, 7, 32)          0         \n",
      "                                                                 \n",
      " dropout_3 (Dropout)         (None, 6, 7, 32)          0         \n",
      "                                                                 \n",
      " flatten_1 (Flatten)         (None, 1344)              0         \n",
      "                                                                 \n",
      " dense_2 (Dense)             (None, 32)                43040     \n",
      "                                                                 \n",
      " leaky_re_lu_4 (LeakyReLU)   (None, 32)                0         \n",
      "                                                                 \n",
      " dropout_4 (Dropout)         (None, 32)                0         \n",
      "                                                                 \n",
      " dense_3 (Dense)             (None, 3)                 99        \n",
      "                                                                 \n",
      "=================================================================\n",
      "Total params: 53,283\n",
      "Trainable params: 53,283\n",
      "Non-trainable params: 0\n",
      "_________________________________________________________________\n"
     ]
    }
   ],
   "source": [
    "sport_model = Sequential()\n",
    "\n",
    "\n",
    "sport_model.add(Conv2D(32, kernel_size=(3, 3),activation='linear',padding='same',input_shape=(21,28,3)))\n",
    "sport_model.add(MaxPooling2D(pool_size=(2, 2),padding='same'))\n",
    "sport_model.add(LeakyReLU(alpha=0.1))\n",
    "sport_model.add(Dropout(0.5))\n",
    "\n",
    "sport_model.add(Conv2D(32, kernel_size=(3, 3),activation='linear',padding='same'))\n",
    "sport_model.add(MaxPooling2D(pool_size=(2, 2),padding='same'))\n",
    "sport_model.add(LeakyReLU(alpha=0.1))\n",
    "sport_model.add(Dropout(0.5))\n",
    "\n",
    "sport_model.add(Flatten())\n",
    "sport_model.add(Dense(32, activation='linear'))\n",
    "sport_model.add(LeakyReLU(alpha=0.1))\n",
    "sport_model.add(Dropout(0.5)) \n",
    "sport_model.add(Dense(num_classes, activation='softmax'))\n",
    "sport_model.summary()\n"
   ]
  },
  {
   "cell_type": "code",
   "execution_count": 22,
   "metadata": {},
   "outputs": [],
   "source": [
    "sport_model.compile(loss='categorical_crossentropy',optimizer='adam',metrics=['accuracy'])"
   ]
  },
  {
   "cell_type": "markdown",
   "metadata": {},
   "source": [
    "# Entrenando el modelo"
   ]
  },
  {
   "cell_type": "code",
   "execution_count": 23,
   "metadata": {},
   "outputs": [
    {
     "name": "stdout",
     "output_type": "stream",
     "text": [
      "Epoch 1/6\n"
     ]
    },
    {
     "name": "stderr",
     "output_type": "stream",
     "text": [
      "<ipython-input-23-1a3c6e511232>:6: UserWarning: `Model.fit_generator` is deprecated and will be removed in a future version. Please use `Model.fit`, which supports generators.\n",
      "  history = sport_model.fit_generator(generator=train_generator,\n"
     ]
    },
    {
     "name": "stdout",
     "output_type": "stream",
     "text": [
      "390/390 [==============================] - ETA: 0s - loss: 0.9063 - accuracy: 0.5658\n",
      "Epoch 1: val_loss improved from inf to 0.90106, saving model to /Users/usuario/OneDrive/Documentos/semestre 2021-3/ciencias de datos/final\\model_jupyter.h5\n",
      "390/390 [==============================] - 21s 51ms/step - loss: 0.9063 - accuracy: 0.5658 - val_loss: 0.9011 - val_accuracy: 0.6359\n",
      "Epoch 2/6\n",
      "389/390 [============================>.] - ETA: 0s - loss: 0.4045 - accuracy: 0.8451\n",
      "Epoch 2: val_loss improved from 0.90106 to 0.74131, saving model to /Users/usuario/OneDrive/Documentos/semestre 2021-3/ciencias de datos/final\\model_jupyter.h5\n",
      "390/390 [==============================] - 20s 50ms/step - loss: 0.4046 - accuracy: 0.8446 - val_loss: 0.7413 - val_accuracy: 0.7454\n",
      "Epoch 3/6\n",
      "389/390 [============================>.] - ETA: 0s - loss: 0.2468 - accuracy: 0.9140\n",
      "Epoch 3: val_loss did not improve from 0.74131\n",
      "390/390 [==============================] - 19s 49ms/step - loss: 0.2461 - accuracy: 0.9142 - val_loss: 1.0250 - val_accuracy: 0.6727\n",
      "Epoch 4/6\n",
      "390/390 [==============================] - ETA: 0s - loss: 0.1653 - accuracy: 0.9415\n",
      "Epoch 4: val_loss did not improve from 0.74131\n",
      "390/390 [==============================] - 21s 55ms/step - loss: 0.1653 - accuracy: 0.9415 - val_loss: 1.0017 - val_accuracy: 0.7335\n",
      "Epoch 5/6\n",
      "390/390 [==============================] - ETA: 0s - loss: 0.1192 - accuracy: 0.9604\n",
      "Epoch 5: val_loss did not improve from 0.74131\n",
      "390/390 [==============================] - 35s 88ms/step - loss: 0.1192 - accuracy: 0.9604 - val_loss: 1.2701 - val_accuracy: 0.6456\n",
      "Epoch 6/6\n",
      "389/390 [============================>.] - ETA: 0s - loss: 0.0821 - accuracy: 0.9739\n",
      "Epoch 6: val_loss did not improve from 0.74131\n",
      "390/390 [==============================] - 19s 49ms/step - loss: 0.0819 - accuracy: 0.9740 - val_loss: 1.2629 - val_accuracy: 0.7330\n"
     ]
    }
   ],
   "source": [
    "callbacks = [EarlyStopping(monitor='val_loss', mode='min', verbose=1, patience=5), ModelCheckpoint(filepath=\"/Users/usuario/OneDrive/Documentos/semestre 2021-3/ciencias de datos/final/model_jupyter.h5\", monitor='val_loss', save_best_only=True, verbose=1,mode='min')]\n",
    "\n",
    "\n",
    "step_size_train=train_generator.n/train_generator.batch_size\n",
    "step_size_validation=validation_generator.n/validation_generator.batch_size\n",
    "history = sport_model.fit_generator(generator=train_generator,\n",
    "                   steps_per_epoch=step_size_train,\n",
    "                   validation_data = validation_generator,\n",
    "                   validation_steps = step_size_validation,\n",
    "                   epochs=6, callbacks=callbacks)"
   ]
  },
  {
   "cell_type": "code",
   "execution_count": 24,
   "metadata": {},
   "outputs": [
    {
     "data": {
      "image/png": "[encoded data removed]",
      "text/plain": [
       "<Figure size 432x288 with 1 Axes>"
      ]
     },
     "metadata": {
      "needs_background": "light"
     },
     "output_type": "display_data"
    }
   ],
   "source": [
    "# Gráfica de la métrica de precisión\n",
    "plt.plot(history.history['accuracy'])\n",
    "plt.plot(history.history['val_accuracy'])\n",
    "plt.title('Accuracy Modelo')\n",
    "plt.ylabel('Accuracy')\n",
    "plt.xlabel('Iteración')\n",
    "plt.legend(['entrenamiento', 'validación'], loc='lower right')\n",
    "plt.show()"
   ]
  },
  {
   "cell_type": "code",
   "execution_count": 25,
   "metadata": {},
   "outputs": [
    {
     "data": {
      "image/png": "[encoded data removed]",
      "text/plain": [
       "<Figure size 432x288 with 1 Axes>"
      ]
     },
     "metadata": {
      "needs_background": "light"
     },
     "output_type": "display_data"
    }
   ],
   "source": [
    "plt.plot(history.history['loss'])\n",
    "plt.plot(history.history['val_loss'])\n",
    "plt.title('Función de Pérdida Modelo')\n",
    "plt.ylabel('Pérdida')\n",
    "plt.xlabel('Iteración')\n",
    "plt.legend(['entrenamiento', 'validación'], loc='upper right')\n",
    "plt.show()"
   ]
  },
  {
   "cell_type": "markdown",
   "metadata": {},
   "source": [
    "# Evalucion del Modelo"
   ]
  },
  {
   "cell_type": "code",
   "execution_count": 59,
   "metadata": {},
   "outputs": [],
   "source": [
    "model_loaded = load_model(\"/Users/usuario/OneDrive/Documentos/semestre 2021-3/ciencias de datos/final/model_jupyter.h5\")"
   ]
  },
  {
   "cell_type": "code",
   "execution_count": 60,
   "metadata": {},
   "outputs": [
    {
     "name": "stderr",
     "output_type": "stream",
     "text": [
      "<ipython-input-60-cec97c13445f>:2: UserWarning: `Model.evaluate_generator` is deprecated and will be removed in a future version. Please use `Model.evaluate`, which supports generators.\n",
      "  result_evaluate =  model_loaded.evaluate_generator(test_generator,step_size_test,verbose=1)\n"
     ]
    },
    {
     "name": "stdout",
     "output_type": "stream",
     "text": [
      "4419/4419 [==============================] - 42s 9ms/step - loss: 0.2745 - accuracy: 0.9061\n",
      "[0.2744711637496948, 0.906087338924408]\n"
     ]
    }
   ],
   "source": [
    "step_size_test=test_generator.n/test_generator.batch_size\n",
    "result_evaluate =  model_loaded.evaluate_generator(test_generator,step_size_test,verbose=1)\n",
    "print(result_evaluate)"
   ]
  },
  {
   "cell_type": "code",
   "execution_count": 61,
   "metadata": {},
   "outputs": [
    {
     "name": "stderr",
     "output_type": "stream",
     "text": [
      "<ipython-input-61-cfc02af0603b>:1: UserWarning: `Model.predict_generator` is deprecated and will be removed in a future version. Please use `Model.predict`, which supports generators.\n",
      "  y_pred_prob =  model_loaded.predict_generator(test_generator, steps= step_size_test)\n"
     ]
    }
   ],
   "source": [
    "y_pred_prob =  model_loaded.predict_generator(test_generator, steps= step_size_test)\n",
    "y_pred_classes = np.argmax(y_pred_prob, axis=1)\n",
    "test_labels_one_hot = to_categorical(test_generator.classes)"
   ]
  },
  {
   "cell_type": "code",
   "execution_count": 62,
   "metadata": {},
   "outputs": [
    {
     "name": "stdout",
     "output_type": "stream",
     "text": [
      "[[0.43366668 0.12834027 0.43799302]\n",
      " [0.48308083 0.14492649 0.37199268]\n",
      " [0.4862941  0.14045349 0.3732524 ]\n",
      " ...\n",
      " [0.0080185  0.01840582 0.97357565]\n",
      " [0.00798305 0.01886627 0.97315073]\n",
      " [0.00801789 0.01877146 0.9732107 ]]\n",
      "[2 0 0 ... 2 2 2]\n",
      "[[1. 0. 0.]\n",
      " [1. 0. 0.]\n",
      " [1. 0. 0.]\n",
      " ...\n",
      " [0. 0. 1.]\n",
      " [0. 0. 1.]\n",
      " [0. 0. 1.]]\n"
     ]
    }
   ],
   "source": [
    "print(y_pred_prob)\n",
    "print(y_pred_classes)\n",
    "print(test_labels_one_hot)"
   ]
  }
 ],
 "metadata": {
  "interpreter": {
   "hash": "6ce7a0b8043992accea837886d212becdd9412c86ff5a50f246768d9a7202fc8"
  },
  "kernelspec": {
   "display_name": "Python 3.8.3 64-bit",
   "language": "python",
   "name": "python3"
  },
  "language_info": {
   "codemirror_mode": {
    "name": "ipython",
    "version": 3
   },
   "file_extension": ".py",
   "mimetype": "text/x-python",
   "name": "python",
   "nbconvert_exporter": "python",
   "pygments_lexer": "ipython3",
   "version": "3.8.3"
  },
  "orig_nbformat": 4
 },
 "nbformat": 4,
 "nbformat_minor": 2
}
